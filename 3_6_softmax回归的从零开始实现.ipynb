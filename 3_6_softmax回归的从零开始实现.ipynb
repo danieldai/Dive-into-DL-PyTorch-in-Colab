{
  "nbformat": 4,
  "nbformat_minor": 0,
  "metadata": {
    "colab": {
      "provenance": [],
      "toc_visible": true,
      "authorship_tag": "ABX9TyPSA/pFj1wIGvJZ/Pnad41Q",
      "include_colab_link": true
    },
    "kernelspec": {
      "name": "python3",
      "display_name": "Python 3"
    },
    "language_info": {
      "name": "python"
    }
  },
  "cells": [
    {
      "cell_type": "markdown",
      "metadata": {
        "id": "view-in-github",
        "colab_type": "text"
      },
      "source": [
        "<a href=\"https://colab.research.google.com/github/danieldai/Dive-into-DL-PyTorch-in-Colab/blob/main/3_6_softmax%E5%9B%9E%E5%BD%92%E7%9A%84%E4%BB%8E%E9%9B%B6%E5%BC%80%E5%A7%8B%E5%AE%9E%E7%8E%B0.ipynb\" target=\"_parent\"><img src=\"https://colab.research.google.com/assets/colab-badge.svg\" alt=\"Open In Colab\"/></a>"
      ]
    },
    {
      "cell_type": "markdown",
      "source": [
        "https://tangshusen.me/Dive-into-DL-PyTorch/#/chapter03_DL-basics/3.6_softmax-regression-scratch"
      ],
      "metadata": {
        "id": "5QFLqiQYVIfz"
      }
    },
    {
      "cell_type": "markdown",
      "source": [
        "下载 d2lzh_pytorch 到colab环境中"
      ],
      "metadata": {
        "id": "0KWbVaa0kKxi"
      }
    },
    {
      "cell_type": "code",
      "source": [
        "!git clone https://github.com/ShusenTang/Dive-into-DL-PyTorch.git\n",
        "#!ls Dive-into-DL-PyTorch/code/d2lzh_pytorch\n",
        "!cp -r Dive-into-DL-PyTorch/code/d2lzh_pytorch /content"
      ],
      "metadata": {
        "colab": {
          "base_uri": "https://localhost:8080/"
        },
        "id": "TE5DoPZ7Vgdb",
        "outputId": "c8ff924a-a249-4c73-fe25-653b7d7351d7"
      },
      "execution_count": 1,
      "outputs": [
        {
          "output_type": "stream",
          "name": "stdout",
          "text": [
            "fatal: destination path 'Dive-into-DL-PyTorch' already exists and is not an empty directory.\n"
          ]
        }
      ]
    },
    {
      "cell_type": "markdown",
      "source": [
        "# 3.6 softmax回归的从零开始实现\n",
        "\n",
        "这一节我们来动手实现softmax回归。首先导入本节实现所需的包或模块。"
      ],
      "metadata": {
        "id": "OwPD3-xEkGCI"
      }
    },
    {
      "cell_type": "code",
      "source": [
        "import torchtext\n",
        "torchtext.disable_torchtext_deprecation_warning()\n",
        "\n",
        "import torch\n",
        "import torchvision\n",
        "import numpy as np\n",
        "import sys\n",
        "sys.path.append(\"..\") # 为了导入上层目录的d2lzh_pytorch\n",
        "import d2lzh_pytorch as d2l\n",
        "\n"
      ],
      "metadata": {
        "id": "fzRu8WkUVndZ"
      },
      "execution_count": 2,
      "outputs": []
    },
    {
      "cell_type": "markdown",
      "source": [
        "## 3.6.1 获取和读取数据\n",
        "\n",
        "我们将使用Fashion-MNIST数据集，并设置批量大小为256。"
      ],
      "metadata": {
        "id": "r8zBg9AQjr6N"
      }
    },
    {
      "cell_type": "code",
      "source": [
        "batch_size = 256\n",
        "train_iter, test_iter = d2l.load_data_fashion_mnist(batch_size, root='/content/Datasets/FashionMNIS')\n"
      ],
      "metadata": {
        "colab": {
          "base_uri": "https://localhost:8080/"
        },
        "id": "U2-SzSjwVuRX",
        "outputId": "ce70fa96-9aab-473e-f0c5-674c58c3dfbb"
      },
      "execution_count": 3,
      "outputs": [
        {
          "output_type": "stream",
          "name": "stderr",
          "text": [
            "/usr/local/lib/python3.10/dist-packages/torch/utils/data/dataloader.py:558: UserWarning: This DataLoader will create 4 worker processes in total. Our suggested max number of worker in current system is 2, which is smaller than what this DataLoader is going to create. Please be aware that excessive worker creation might get DataLoader running slow or even freeze, lower the worker number to avoid potential slowness/freeze if necessary.\n",
            "  warnings.warn(_create_warning_msg(\n"
          ]
        }
      ]
    },
    {
      "cell_type": "markdown",
      "source": [
        "## 3.6.2 初始化模型参数\n",
        "跟线性回归中的例子一样，我们将使用向量表示每个样本。已知每个样本输入是高和宽均为28像素的图像。模型的输入向量的长度是 $28 \\times 28 = 784$：该向量的每个元素对应图像中每个像素。由于图像有10个类别，单层神经网络输出层的输出个数为10，因此softmax回归的权重和偏差参数分别为$784 \\times 10$和$1 \\times 10$的矩阵。"
      ],
      "metadata": {
        "id": "Y9zM4TOBkjRN"
      }
    },
    {
      "cell_type": "code",
      "source": [
        "num_inputs = 784\n",
        "num_outputs = 10\n",
        "\n",
        "W = torch.tensor(np.random.normal(0, 0.01, (num_inputs, num_outputs)), dtype=torch.float)\n",
        "b = torch.zeros(num_outputs, dtype=torch.float)\n"
      ],
      "metadata": {
        "id": "iogov7QQV-W6"
      },
      "execution_count": 4,
      "outputs": []
    },
    {
      "cell_type": "markdown",
      "source": [
        "同之前一样，我们需要模型参数梯度。"
      ],
      "metadata": {
        "id": "OwE3ZsKdlapc"
      }
    },
    {
      "cell_type": "code",
      "source": [
        "W.requires_grad_(requires_grad=True)\n",
        "b.requires_grad_(requires_grad=True)\n"
      ],
      "metadata": {
        "colab": {
          "base_uri": "https://localhost:8080/"
        },
        "id": "iDfdD97zWETb",
        "outputId": "842f10f9-b67e-4a2e-b161-51858fe6582f"
      },
      "execution_count": 5,
      "outputs": [
        {
          "output_type": "execute_result",
          "data": {
            "text/plain": [
              "tensor([0., 0., 0., 0., 0., 0., 0., 0., 0., 0.], requires_grad=True)"
            ]
          },
          "metadata": {},
          "execution_count": 5
        }
      ]
    },
    {
      "cell_type": "markdown",
      "source": [
        "## 3.6.3 实现softmax运算\n",
        "\n",
        "在介绍如何定义softmax回归之前，我们先描述一下对如何对多维`Tensor`按维度操作。在下面的例子中，给定一个`Tensor`矩阵`X`。我们可以只对其中同一列（`dim=0`）或同一行（`dim=1`）的元素求和，并在结果中保留行和列这两个维度（`keepdim=True`）。"
      ],
      "metadata": {
        "id": "r6c11naulgEp"
      }
    },
    {
      "cell_type": "code",
      "source": [
        "X = torch.tensor([[1, 2, 3], [4, 5, 6]])\n",
        "print(X.sum(dim=0, keepdim=True))\n",
        "print(X.sum(dim=1, keepdim=True))"
      ],
      "metadata": {
        "colab": {
          "base_uri": "https://localhost:8080/"
        },
        "id": "9cP5CS3Olwfb",
        "outputId": "15e33c9b-9f22-4748-ea32-ddd74f24a118"
      },
      "execution_count": 6,
      "outputs": [
        {
          "output_type": "stream",
          "name": "stdout",
          "text": [
            "tensor([[5, 7, 9]])\n",
            "tensor([[ 6],\n",
            "        [15]])\n"
          ]
        }
      ]
    },
    {
      "cell_type": "markdown",
      "source": [
        "下面我们就可以定义前面小节里介绍的softmax运算了。在下面的函数中，矩阵`X`的行数是样本数，列数是输出个数。为了表达样本预测各个输出的概率，softmax运算会先通过`exp`函数对每个元素做指数运算，再对`exp`矩阵同行元素求和，最后令矩阵每行各元素与该行元素之和相除。这样一来，最终得到的矩阵每行元素和为1且非负。因此，该矩阵每行都是合法的概率分布。softmax运算的输出矩阵中的任意一行元素代表了一个样本在各个输出类别上的预测概率。"
      ],
      "metadata": {
        "id": "hnrSoP4El62Q"
      }
    },
    {
      "cell_type": "code",
      "source": [
        "def softmax(X):\n",
        "    X_exp = X.exp()\n",
        "    partition = X_exp.sum(dim=1, keepdim=True)\n",
        "    return X_exp / partition  # 这里应用了广播机制\n"
      ],
      "metadata": {
        "id": "ppNB-BpwWLYt"
      },
      "execution_count": 7,
      "outputs": []
    },
    {
      "cell_type": "markdown",
      "source": [
        "可以看到，对于随机输入，我们将每个元素变成了非负数，且每一行和为1。"
      ],
      "metadata": {
        "id": "Zffo8OAkFNU4"
      }
    },
    {
      "cell_type": "code",
      "source": [
        "X = torch.rand((2, 5))\n",
        "X_prob = softmax(X)\n",
        "print(X_prob, X_prob.sum(dim=1))"
      ],
      "metadata": {
        "colab": {
          "base_uri": "https://localhost:8080/"
        },
        "id": "6zj2ffwXFQly",
        "outputId": "01b75324-7415-48b5-fe0b-2e5c08fc264d"
      },
      "execution_count": 8,
      "outputs": [
        {
          "output_type": "stream",
          "name": "stdout",
          "text": [
            "tensor([[0.1564, 0.2029, 0.2150, 0.2117, 0.2139],\n",
            "        [0.2624, 0.1088, 0.2014, 0.1779, 0.2495]]) tensor([1.0000, 1.0000])\n"
          ]
        }
      ]
    },
    {
      "cell_type": "markdown",
      "source": [
        "## 3.6.4 定义模型\n",
        "\n",
        "有了softmax运算，我们可以定义上节描述的softmax回归模型了。这里通过`view`函数将每张原始图像改成长度为`num_inputs`的向量。"
      ],
      "metadata": {
        "id": "SUop8B7CFj6W"
      }
    },
    {
      "cell_type": "code",
      "source": [
        "def net(X):\n",
        "    return softmax(torch.mm(X.view((-1, num_inputs)), W) + b)\n"
      ],
      "metadata": {
        "id": "rIAoLOqtWQeZ"
      },
      "execution_count": 9,
      "outputs": []
    },
    {
      "cell_type": "markdown",
      "source": [
        "## 3.6.5 定义损失函数\n",
        "\n",
        "上一节中，我们介绍了softmax回归使用的交叉熵损失函数。为了得到标签的预测概率，我们可以使用`gather`函数。在下面的例子中，变量`y_hat`是2个样本在3个类别的预测概率，变量`y`是这2个样本的标签类别。通过使用`gather`函数，我们得到了2个样本的标签的预测概率。与3.4节（softmax回归）数学表述中标签类别离散值从1开始逐一递增不同，在代码中，标签类别的离散值是从0开始逐一递增的。"
      ],
      "metadata": {
        "id": "72l9hiRHGSmT"
      }
    },
    {
      "cell_type": "code",
      "source": [
        "y_hat = torch.tensor([[0.1, 0.3, 0.6], [0.3, 0.2, 0.5]])\n",
        "y = torch.LongTensor([0, 2])\n",
        "y_hat.gather(1, y.view(-1, 1))\n"
      ],
      "metadata": {
        "colab": {
          "base_uri": "https://localhost:8080/"
        },
        "id": "_lJ7e5IFWTHJ",
        "outputId": "b7dd0279-3c44-42a0-b23b-ba31055fd4e5"
      },
      "execution_count": 10,
      "outputs": [
        {
          "output_type": "execute_result",
          "data": {
            "text/plain": [
              "tensor([[0.1000],\n",
              "        [0.5000]])"
            ]
          },
          "metadata": {},
          "execution_count": 10
        }
      ]
    },
    {
      "cell_type": "markdown",
      "source": [
        "下面实现了3.4节（softmax回归）中介绍的交叉熵损失函数。"
      ],
      "metadata": {
        "id": "QwbAtMtfGp8u"
      }
    },
    {
      "cell_type": "code",
      "source": [
        "def cross_entropy(y_hat, y):\n",
        "    return - torch.log(y_hat.gather(1, y.view(-1, 1)))\n"
      ],
      "metadata": {
        "id": "qaQ2eLVrWWml"
      },
      "execution_count": 11,
      "outputs": []
    },
    {
      "cell_type": "markdown",
      "source": [
        "## 3.6.6 计算分类准确率\n",
        "\n",
        "给定一个类别的预测概率分布`y_hat`，我们把预测概率最大的类别作为输出类别。如果它与真实类别`y`一致，说明这次预测是正确的。分类准确率即正确预测数量与总预测数量之比。\n",
        "\n",
        "为了演示准确率的计算，下面定义准确率`accuracy`函数。其中`y_hat.argmax(dim=1)`返回矩阵`y_hat`每行中最大元素的索引，且返回结果与变量`y`形状相同。相等条件判断式`(y_hat.argmax(dim=1) == y)`是一个类型为`ByteTensor`的`Tensor`，我们用`float()`将其转换为值为0（相等为假）或1（相等为真）的浮点型`Tensor`。"
      ],
      "metadata": {
        "id": "ef78v-gOGtve"
      }
    },
    {
      "cell_type": "code",
      "source": [
        "def accuracy(y_hat, y):\n",
        "    return (y_hat.argmax(dim=1) == y).float().mean().item()\n"
      ],
      "metadata": {
        "id": "BBEngeC-WZu9"
      },
      "execution_count": 12,
      "outputs": []
    },
    {
      "cell_type": "markdown",
      "source": [
        "让我们继续使用在演示`gather`函数时定义的变量`y_hat`和`y`，并将它们分别作为预测概率分布和标签。可以看到，第一个样本预测类别为2（该行最大元素0.6在本行的索引为2），与真实标签0不一致；第二个样本预测类别为2（该行最大元素0.5在本行的索引为2），与真实标签2一致。因此，这两个样本上的分类准确率为0.5。"
      ],
      "metadata": {
        "id": "QwRKPaGXGxhm"
      }
    },
    {
      "cell_type": "code",
      "source": [
        "print(accuracy(y_hat, y))"
      ],
      "metadata": {
        "colab": {
          "base_uri": "https://localhost:8080/"
        },
        "id": "EYjDDSEVG15z",
        "outputId": "d8e58a1c-cb8c-4c88-b87c-8e1059670c3c"
      },
      "execution_count": 13,
      "outputs": [
        {
          "output_type": "stream",
          "name": "stdout",
          "text": [
            "0.5\n"
          ]
        }
      ]
    },
    {
      "cell_type": "markdown",
      "source": [
        "类似地，我们可以评价模型`net`在数据集`data_iter`上的准确率。"
      ],
      "metadata": {
        "id": "_h8QthbEG6aH"
      }
    },
    {
      "cell_type": "code",
      "source": [
        "# 本函数已保存在d2lzh_pytorch包中方便以后使用。该函数将被逐步改进：它的完整实现将在“图像增广”一节中描述\n",
        "def evaluate_accuracy(data_iter, net):\n",
        "    acc_sum, n = 0.0, 0\n",
        "    for X, y in data_iter:\n",
        "        acc_sum += (net(X).argmax(dim=1) == y).float().sum().item()\n",
        "        n += y.shape[0]\n",
        "    return acc_sum / n\n"
      ],
      "metadata": {
        "id": "8D3c426GWdSd"
      },
      "execution_count": 14,
      "outputs": []
    },
    {
      "cell_type": "markdown",
      "source": [
        "因为我们随机初始化了模型`net`，所以这个随机模型的准确率应该接近于类别个数10的倒数即0.1。"
      ],
      "metadata": {
        "id": "yJ0M2JIKG_U-"
      }
    },
    {
      "cell_type": "code",
      "source": [
        "print(evaluate_accuracy(test_iter, net))"
      ],
      "metadata": {
        "colab": {
          "base_uri": "https://localhost:8080/"
        },
        "id": "WovPOsmnHASz",
        "outputId": "ba069def-63ac-4273-d695-8498da3a4fbb"
      },
      "execution_count": 15,
      "outputs": [
        {
          "output_type": "stream",
          "name": "stdout",
          "text": [
            "0.186\n"
          ]
        }
      ]
    },
    {
      "cell_type": "markdown",
      "source": [
        "## 3.6.7 训练模型\n",
        "\n",
        "训练softmax回归的实现跟3.2（线性回归的从零开始实现）一节介绍的线性回归中的实现非常相似。我们同样使用小批量随机梯度下降来优化模型的损失函数。在训练模型时，迭代周期数`num_epochs`和学习率`lr`都是可以调的超参数。改变它们的值可能会得到分类更准确的模型。"
      ],
      "metadata": {
        "id": "9FAqxQ8hHFYV"
      }
    },
    {
      "cell_type": "code",
      "source": [
        "num_epochs, lr = 5, 0.1\n",
        "\n",
        "# 本函数已保存在d2lzh包中方便以后使用\n",
        "def train_ch3(net, train_iter, test_iter, loss, num_epochs, batch_size,\n",
        "              params=None, lr=None, optimizer=None):\n",
        "    for epoch in range(num_epochs):\n",
        "        train_l_sum, train_acc_sum, n = 0.0, 0.0, 0\n",
        "        for X, y in train_iter:\n",
        "            y_hat = net(X)\n",
        "            l = loss(y_hat, y).sum()\n",
        "\n",
        "            # 梯度清零\n",
        "            if optimizer is not None:\n",
        "                optimizer.zero_grad()\n",
        "            elif params is not None and params[0].grad is not None:\n",
        "                for param in params:\n",
        "                    param.grad.data.zero_()\n",
        "\n",
        "            l.backward()\n",
        "            if optimizer is None:\n",
        "                d2l.sgd(params, lr, batch_size)\n",
        "            else:\n",
        "                optimizer.step()  # “softmax回归的简洁实现”一节将用到\n",
        "\n",
        "\n",
        "            train_l_sum += l.item()\n",
        "            train_acc_sum += (y_hat.argmax(dim=1) == y).sum().item()\n",
        "            n += y.shape[0]\n",
        "        test_acc = evaluate_accuracy(test_iter, net)\n",
        "        print('epoch %d, loss %.4f, train acc %.3f, test acc %.3f'\n",
        "              % (epoch + 1, train_l_sum / n, train_acc_sum / n, test_acc))\n",
        "\n",
        "train_ch3(net, train_iter, test_iter, cross_entropy, num_epochs, batch_size, [W, b], lr)\n"
      ],
      "metadata": {
        "colab": {
          "base_uri": "https://localhost:8080/"
        },
        "id": "txMceQVOWhG9",
        "outputId": "7d71b4d3-75f7-4b21-a621-b7d937c6056e"
      },
      "execution_count": 16,
      "outputs": [
        {
          "output_type": "stream",
          "name": "stdout",
          "text": [
            "epoch 1, loss 0.7844, train acc 0.750, test acc 0.793\n",
            "epoch 2, loss 0.5701, train acc 0.813, test acc 0.811\n",
            "epoch 3, loss 0.5260, train acc 0.826, test acc 0.821\n",
            "epoch 4, loss 0.5016, train acc 0.832, test acc 0.819\n",
            "epoch 5, loss 0.4850, train acc 0.837, test acc 0.822\n"
          ]
        }
      ]
    },
    {
      "cell_type": "markdown",
      "source": [
        "## 3.6.8 预测\n",
        "\n",
        "训练完成后，现在就可以演示如何对图像进行分类了。给定一系列图像（第三行图像输出），我们比较一下它们的真实标签（第一行文本输出）和模型预测结果（第二行文本输出）。"
      ],
      "metadata": {
        "id": "VjfS4ayAHKYK"
      }
    },
    {
      "cell_type": "code",
      "source": [
        "for X, y in iter(test_iter):\n",
        "\n",
        "  true_labels = d2l.get_fashion_mnist_labels(y.numpy())\n",
        "  pred_labels = d2l.get_fashion_mnist_labels(net(X).argmax(dim=1).numpy())\n",
        "  titles = [true + '\\n' + pred for true, pred in zip(true_labels, pred_labels)]\n",
        "\n",
        "  d2l.show_fashion_mnist(X[0:9], titles[0:9])\n",
        "  break\n"
      ],
      "metadata": {
        "colab": {
          "base_uri": "https://localhost:8080/",
          "height": 217
        },
        "id": "1We9zUIHWzYs",
        "outputId": "9b98ebda-fcf9-4f88-d5f3-078f4ef3d332"
      },
      "execution_count": 18,
      "outputs": [
        {
          "output_type": "stream",
          "name": "stderr",
          "text": [
            "/usr/local/lib/python3.10/dist-packages/torch/utils/data/dataloader.py:558: UserWarning: This DataLoader will create 4 worker processes in total. Our suggested max number of worker in current system is 2, which is smaller than what this DataLoader is going to create. Please be aware that excessive worker creation might get DataLoader running slow or even freeze, lower the worker number to avoid potential slowness/freeze if necessary.\n",
            "  warnings.warn(_create_warning_msg(\n"
          ]
        },
        {
          "output_type": "display_data",
          "data": {
            "text/plain": [
              "<Figure size 1200x1200 with 9 Axes>"
            ],
            "image/svg+xml": "<?xml version=\"1.0\" encoding=\"utf-8\" standalone=\"no\"?>\n<!DOCTYPE svg PUBLIC \"-//W3C//DTD SVG 1.1//EN\"\n  \"http://www.w3.org/Graphics/SVG/1.1/DTD/svg11.dtd\">\n<svg xmlns:xlink=\"http://www.w3.org/1999/xlink\" width=\"684.138219pt\" height=\"106.125311pt\" viewBox=\"0 0 684.138219 106.125311\" xmlns=\"http://www.w3.org/2000/svg\" version=\"1.1\">\n <metadata>\n  <rdf:RDF xmlns:dc=\"http://purl.org/dc/elements/1.1/\" xmlns:cc=\"http://creativecommons.org/ns#\" xmlns:rdf=\"http://www.w3.org/1999/02/22-rdf-syntax-ns#\">\n   <cc:Work>\n    <dc:type rdf:resource=\"http://purl.org/dc/dcmitype/StillImage\"/>\n    <dc:date>2024-07-18T14:00:42.723314</dc:date>\n    <dc:format>image/svg+xml</dc:format>\n    <dc:creator>\n     <cc:Agent>\n      <dc:title>Matplotlib v3.7.1, https://matplotlib.org/</dc:title>\n     </cc:Agent>\n    </dc:creator>\n   </cc:Work>\n  </rdf:RDF>\n </metadata>\n <defs>\n  <style type=\"text/css\">*{stroke-linejoin: round; stroke-linecap: butt}</style>\n </defs>\n <g id=\"figure_1\">\n  <g id=\"patch_1\">\n   <path d=\"M 0 106.125311 \nL 684.138219 106.125311 \nL 684.138219 -0 \nL 0 -0 \nz\n\" style=\"fill: #ffffff\"/>\n  </g>\n  <g id=\"axes_1\">\n   <g id=\"patch_2\">\n    <path d=\"M 7.338219 98.925311 \nL 70.508031 98.925311 \nL 70.508031 35.7555 \nL 7.338219 35.7555 \nz\n\" style=\"fill: #ffffff\"/>\n   </g>\n   <g clip-path=\"url(#paa4fc8a4a9)\">\n    <image xlink:href=\"data:image/png;base64,\niVBORw0KGgoAAAANSUhEUgAAAFgAAABYCAYAAABxlTA0AAAF+0lEQVR4nO2bu28cVRTG78zs7Mtev9d2EjuOncRRaKBAhCBRoIBokGgoUkGfFCmQKGhBIkikoeAvQAgIfwCgIAqk8JAQwlKC8iAPIkgcbO/aXs96d15UOd+5mxliRz5A0PlV38zceX2+9/jcc2ed551XUqOI4f7bD/B/Rw0WRg0WRg0WRg0WRg0WRg0WRg0WRg0WRg0WRg0WRg0WRg0WRg0WRg0WRg0WRg0WRg0WprCVRt7wsLW9dmyedGPew8WeapDeP7JEem8f9u8pQXvGXq2KjUM6TPBoF1u7SH97bZb08Ndl0vWPF0gnGxt5r2KRfDVN+rn6ZdIL63tI39kYIL28UbXOjyK8e9jF886fvEZae7AwarAwzouTJ2icXn5jjg7UH/uT9MxAw+SxGfmkF4N+0kuNGumoWSTtr2FYJb4dIlKH6ZGQ9BNzv+G5yi3ScxWEoThFX3lz7JJ13XeXD5L+cvEw6Q/nPyI94pXYtbIX2oM0tLa/CPaSvro5QfqbU0+T1h4sjBosjHPk+Hs0HqJXl+nA8pVR0uVF++/gdaHZyDQu349IYFhyYFhyYBLfWDgJdFhjw5SdH5fZ/tEOyUIxJt1f3bSue3j0rsliwEe7ghNntrmziSxivNSyjq10kVUEEcJg5xS80x4sjBosTKH2yXe00UqOkO7fDe/dyD5pcww69TBkndjJ3M+zg6gP+5MyiwnGWKHAFHHMa/K4wpqz7pEmOHnlLoa1McacbyC7ce9iKFf2r5ksWg02oejiJoWBrtWuXMH2s1OYXFzcjexCe7AwarAwVi2i/+z3pIf2oZu358etk8LbSBG6ffgbRRUM//V9aB+z/W6IoVxctEshPCPhkxCeOfBMI27h/CRkJ3v2RKEy1CYdDODZOx2cXyxmZxH+EDKN+pCdRawGFdLNLnTi4x21BwujBgujBgvjvOAfp4CVRtHftd0Whekp0u1DKISsHEZRpT1px0q3i9jlYZJmQpbaRWyGl7I4nZYRQ/2qXZTpq+JiJR/vuLLaRzpJWFrqItCHAZtuhnZ/dPtxn4Ea4nz9NN5Re7AwarAwTu6vjFwvc7cxxpg0ZzqVZKc6eXgHZq3tG8exNMRTu2IDoSPCqDZJEW26I7h3ccQu9oRLSKEKPcfu4bi4VqGAawUrmNU5PamcX0a42TuGmrl77BZ05t2UHUMNFiZ/VXmrwz1l7VhYcTzoNGL/1dlyTHz1unWp6bexffv1Z0ivH8BQLN/GI3ubTub+wqSdDXUd3DNsIytwfTx7qYJnLBehAzYrLPVkJzVWd775A7KmWaMh4h9DDRZmSx+e3IfDl39ZEsLCSrqFEOMUeoo9bKKz68x50t4JhIvm4ximQwsY7nwpKmij5muMMW4N56QNHHNG2TJTBZMR32PPzleunOyEyxhjZj7Pzk60BwujBgvzcCEi58OM3NDBJy1sktJb++Ahgx8b/wDhInjrKOn2BO7BM4pozQ4RY1NN0k2WFbgeqzmw78zihK9dgaRn/3qAb+PGfsaSEQ+O2oOFUYOFebgQkUde6NjipMUKGTyssPP3n7lI+pfTh0g7HVZubNv9Jugg25iqo2awuIrv53iJcqSK0mOziOJHFNp2xR0WVpqrJgvtwcKowcLsbIjYSVhYcHxkBXwozn6GNjdfQl/xOvZ/+3YLKwxpDV+/86wgZV/HXL2Esqk/jAnIIFu1MMaYpT8GH/AS2oPFUYOFUYOF+e/GYIZVT2b4534kPXgQM7zGk3b78q+YcZVeu0F6Jud+daYLM/gl0u8vT1vtqv3mgWgPFkYNFuaRCBEWOTO8yXOLaBJN8DPM+NkLpLe37m1MdBPLPxPv37KOXX/naG/z+9AeLIwaLMyjESJ4ESnNHuTxFdRjR5k2xg4LVs055ktDOd/fVPHhSRIE1rG5T/EThLzFJO3BwqjBwjwaIWIH2e4nur1hwbrWTxdyj91De7AwarAwarAwarAwarAwarAwarAwarAwarAwarAwarAwarAwarAwarAwarAwarAwarAwarAwarAwarAwarAwfwEK/bweaNzxiAAAAABJRU5ErkJggg==\" id=\"imagec883ba7aa1\" transform=\"scale(1 -1) translate(0 -63.36)\" x=\"7.338219\" y=\"-35.565311\" width=\"63.36\" height=\"63.36\"/>\n   </g>\n   <g id=\"patch_3\">\n    <path d=\"M 7.338219 98.925311 \nL 7.338219 35.7555 \n\" style=\"fill: none; stroke: #000000; stroke-width: 0.8; stroke-linejoin: miter; stroke-linecap: square\"/>\n   </g>\n   <g id=\"patch_4\">\n    <path d=\"M 70.508031 98.925311 \nL 70.508031 35.7555 \n\" style=\"fill: none; stroke: #000000; stroke-width: 0.8; stroke-linejoin: miter; stroke-linecap: square\"/>\n   </g>\n   <g id=\"patch_5\">\n    <path d=\"M 7.338219 98.925311 \nL 70.508031 98.925311 \n\" style=\"fill: none; stroke: #000000; stroke-width: 0.8; stroke-linejoin: miter; stroke-linecap: square\"/>\n   </g>\n   <g id=\"patch_6\">\n    <path d=\"M 7.338219 35.7555 \nL 70.508031 35.7555 \n\" style=\"fill: none; stroke: #000000; stroke-width: 0.8; stroke-linejoin: miter; stroke-linecap: square\"/>\n   </g>\n   <g id=\"text_1\">\n    <!-- ankle boot -->\n    <g transform=\"translate(7.2 16.318125) scale(0.12 -0.12)\">\n     <defs>\n      <path id=\"DejaVuSans-61\" d=\"M 2194 1759 \nQ 1497 1759 1228 1600 \nQ 959 1441 959 1056 \nQ 959 750 1161 570 \nQ 1363 391 1709 391 \nQ 2188 391 2477 730 \nQ 2766 1069 2766 1631 \nL 2766 1759 \nL 2194 1759 \nz\nM 3341 1997 \nL 3341 0 \nL 2766 0 \nL 2766 531 \nQ 2569 213 2275 61 \nQ 1981 -91 1556 -91 \nQ 1019 -91 701 211 \nQ 384 513 384 1019 \nQ 384 1609 779 1909 \nQ 1175 2209 1959 2209 \nL 2766 2209 \nL 2766 2266 \nQ 2766 2663 2505 2880 \nQ 2244 3097 1772 3097 \nQ 1472 3097 1187 3025 \nQ 903 2953 641 2809 \nL 641 3341 \nQ 956 3463 1253 3523 \nQ 1550 3584 1831 3584 \nQ 2591 3584 2966 3190 \nQ 3341 2797 3341 1997 \nz\n\" transform=\"scale(0.015625)\"/>\n      <path id=\"DejaVuSans-6e\" d=\"M 3513 2113 \nL 3513 0 \nL 2938 0 \nL 2938 2094 \nQ 2938 2591 2744 2837 \nQ 2550 3084 2163 3084 \nQ 1697 3084 1428 2787 \nQ 1159 2491 1159 1978 \nL 1159 0 \nL 581 0 \nL 581 3500 \nL 1159 3500 \nL 1159 2956 \nQ 1366 3272 1645 3428 \nQ 1925 3584 2291 3584 \nQ 2894 3584 3203 3211 \nQ 3513 2838 3513 2113 \nz\n\" transform=\"scale(0.015625)\"/>\n      <path id=\"DejaVuSans-6b\" d=\"M 581 4863 \nL 1159 4863 \nL 1159 1991 \nL 2875 3500 \nL 3609 3500 \nL 1753 1863 \nL 3688 0 \nL 2938 0 \nL 1159 1709 \nL 1159 0 \nL 581 0 \nL 581 4863 \nz\n\" transform=\"scale(0.015625)\"/>\n      <path id=\"DejaVuSans-6c\" d=\"M 603 4863 \nL 1178 4863 \nL 1178 0 \nL 603 0 \nL 603 4863 \nz\n\" transform=\"scale(0.015625)\"/>\n      <path id=\"DejaVuSans-65\" d=\"M 3597 1894 \nL 3597 1613 \nL 953 1613 \nQ 991 1019 1311 708 \nQ 1631 397 2203 397 \nQ 2534 397 2845 478 \nQ 3156 559 3463 722 \nL 3463 178 \nQ 3153 47 2828 -22 \nQ 2503 -91 2169 -91 \nQ 1331 -91 842 396 \nQ 353 884 353 1716 \nQ 353 2575 817 3079 \nQ 1281 3584 2069 3584 \nQ 2775 3584 3186 3129 \nQ 3597 2675 3597 1894 \nz\nM 3022 2063 \nQ 3016 2534 2758 2815 \nQ 2500 3097 2075 3097 \nQ 1594 3097 1305 2825 \nQ 1016 2553 972 2059 \nL 3022 2063 \nz\n\" transform=\"scale(0.015625)\"/>\n      <path id=\"DejaVuSans-20\" transform=\"scale(0.015625)\"/>\n      <path id=\"DejaVuSans-62\" d=\"M 3116 1747 \nQ 3116 2381 2855 2742 \nQ 2594 3103 2138 3103 \nQ 1681 3103 1420 2742 \nQ 1159 2381 1159 1747 \nQ 1159 1113 1420 752 \nQ 1681 391 2138 391 \nQ 2594 391 2855 752 \nQ 3116 1113 3116 1747 \nz\nM 1159 2969 \nQ 1341 3281 1617 3432 \nQ 1894 3584 2278 3584 \nQ 2916 3584 3314 3078 \nQ 3713 2572 3713 1747 \nQ 3713 922 3314 415 \nQ 2916 -91 2278 -91 \nQ 1894 -91 1617 61 \nQ 1341 213 1159 525 \nL 1159 0 \nL 581 0 \nL 581 4863 \nL 1159 4863 \nL 1159 2969 \nz\n\" transform=\"scale(0.015625)\"/>\n      <path id=\"DejaVuSans-6f\" d=\"M 1959 3097 \nQ 1497 3097 1228 2736 \nQ 959 2375 959 1747 \nQ 959 1119 1226 758 \nQ 1494 397 1959 397 \nQ 2419 397 2687 759 \nQ 2956 1122 2956 1747 \nQ 2956 2369 2687 2733 \nQ 2419 3097 1959 3097 \nz\nM 1959 3584 \nQ 2709 3584 3137 3096 \nQ 3566 2609 3566 1747 \nQ 3566 888 3137 398 \nQ 2709 -91 1959 -91 \nQ 1206 -91 779 398 \nQ 353 888 353 1747 \nQ 353 2609 779 3096 \nQ 1206 3584 1959 3584 \nz\n\" transform=\"scale(0.015625)\"/>\n      <path id=\"DejaVuSans-74\" d=\"M 1172 4494 \nL 1172 3500 \nL 2356 3500 \nL 2356 3053 \nL 1172 3053 \nL 1172 1153 \nQ 1172 725 1289 603 \nQ 1406 481 1766 481 \nL 2356 481 \nL 2356 0 \nL 1766 0 \nQ 1100 0 847 248 \nQ 594 497 594 1153 \nL 594 3053 \nL 172 3053 \nL 172 3500 \nL 594 3500 \nL 594 4494 \nL 1172 4494 \nz\n\" transform=\"scale(0.015625)\"/>\n     </defs>\n     <use xlink:href=\"#DejaVuSans-61\"/>\n     <use xlink:href=\"#DejaVuSans-6e\" x=\"61.279297\"/>\n     <use xlink:href=\"#DejaVuSans-6b\" x=\"124.658203\"/>\n     <use xlink:href=\"#DejaVuSans-6c\" x=\"182.568359\"/>\n     <use xlink:href=\"#DejaVuSans-65\" x=\"210.351562\"/>\n     <use xlink:href=\"#DejaVuSans-20\" x=\"271.875\"/>\n     <use xlink:href=\"#DejaVuSans-62\" x=\"303.662109\"/>\n     <use xlink:href=\"#DejaVuSans-6f\" x=\"367.138672\"/>\n     <use xlink:href=\"#DejaVuSans-6f\" x=\"428.320312\"/>\n     <use xlink:href=\"#DejaVuSans-74\" x=\"489.501953\"/>\n    </g>\n    <!-- ankle boot -->\n    <g transform=\"translate(7.2 29.7555) scale(0.12 -0.12)\">\n     <use xlink:href=\"#DejaVuSans-61\"/>\n     <use xlink:href=\"#DejaVuSans-6e\" x=\"61.279297\"/>\n     <use xlink:href=\"#DejaVuSans-6b\" x=\"124.658203\"/>\n     <use xlink:href=\"#DejaVuSans-6c\" x=\"182.568359\"/>\n     <use xlink:href=\"#DejaVuSans-65\" x=\"210.351562\"/>\n     <use xlink:href=\"#DejaVuSans-20\" x=\"271.875\"/>\n     <use xlink:href=\"#DejaVuSans-62\" x=\"303.662109\"/>\n     <use xlink:href=\"#DejaVuSans-6f\" x=\"367.138672\"/>\n     <use xlink:href=\"#DejaVuSans-6f\" x=\"428.320312\"/>\n     <use xlink:href=\"#DejaVuSans-74\" x=\"489.501953\"/>\n    </g>\n   </g>\n  </g>\n  <g id=\"axes_2\">\n   <g id=\"patch_7\">\n    <path d=\"M 83.141993 98.925311 \nL 146.311804 98.925311 \nL 146.311804 35.7555 \nL 83.141993 35.7555 \nz\n\" style=\"fill: #ffffff\"/>\n   </g>\n   <g clip-path=\"url(#pd8ede39a9e)\">\n    <image xlink:href=\"data:image/png;base64,\niVBORw0KGgoAAAANSUhEUgAAAFgAAABYCAYAAABxlTA0AAAImklEQVR4nO1dW2wUVRg+M7PbvbSlpYDcqTaAJAoSBeo9Il5AjbcYUo2JeHvy9mDUxMQHExP1xcuLN0xUEmM0RhKNF7xivaDxEhQoFqxKC7SlBbds2e7u7Mz4oP7ff9Yz3d2px0A839PXmXNmpv+c+fr///nPqXWBdU0gaoR33qnEz3rya+IHiw3Ef7kwifaZEeJWvI54UHLlC1t2rY9SMyzbYvcv4XgsRjz39lzicxoyxHsfXyhdq/71r0Ul6P+N/ucwBtaMWOUm/0R2boL4g9N2EB/xx4hf17QWHZhEBG4x/MKBF+VxakLgh5xYuojoWyetJ95kp4gvWLFI6tL2euX7mRGsGcbAmhFJIoaWwfHoL40Sz3N/xD623p1VhEdxyINUZX38fqWG2iXs2LLCMQhjYM2IJBErlu0ing3guM9yHBxfMp34Te9uIb5u0gHiL2enSNeNWyVRCY5Qx0WOBfegGDjSuZwPr4fff+GnNxCf/1Ce+AlxBExbCwXi7af8LF3394pPa0awdhgDa4YxsGZE0uCD+XriSQua2GAjwWMXcXx5cg/xHheuztIEIr/x4AnovM8037bUepy0ZHcqzzTZC5Bsmj01Q7wwY6ryWgl2ra37ZkvnWsWhcZ76r2es2MJgQjAG1oxIEpGKIY873Uko2xTuPMTawIXqdtPE41Z4ZOQH6nfP5SIu0J+3z1uym8bP9ZQgS7e3fkL83suuU94vydy/klu7ucwI1gxjYM2IJBENMUQ3XsD+kuPrFQcziIYGPbxHHonVCTk5W2Tvm8sH78MlgnsLLuvL2/x5Dj8vjMMD6vhhDR49RK0cdilvzFE3GgdmBGuGMbBmRJKIhIOkzLCPKaB5Npx4eze8hUw7PI1pDv6KD3mYjhFCiGQVyR7++ZdLQRjyQVy6Aj1XXzPx6ScNES8E8JKkEViqfTyaEawZxsCaES3QcPAJ5QP1Z2q7OP792AnEb2zqJt5Xikt9qpGIsHwwR9ySvZMwiWh9E/yMR3ajBfOMuN8Qzxgv4qiDMbBmRJKIlvgR4smQlCFPJbzadxrxOyYjdekGkW7P+qvHR0LIUUPScpXt0tv3Ez+3EdI1yryItA1ZcHLVeS0cZgRrhjGwZkT6Rsc8/FVOWurPpjgfAcW+/sk4sQT0iC+nOqc5WeLVBhGq9m7ZuKm3eD0cPvliG2a+V6eRX9lZZDPlzEJMGauGGcGaYQysGcbAmhFJgws+NDjsDS1vgzv2w6ZFyjZOWcTlstlfm52rVY/zZZU9LQ6qdtwAM9+5mSHTXay/z2qWU0M1r7YwI1g3jIE1I5JE/DKKor3JdkrZZnYyQ7zvJ3XdftoqSD9zKeBvPmzKiIPPHJfPVvP+O11EaSF5qjKXD31TQ5WTUeUwI1gzjIE1I5JE7B1pIu6wxYN8OcHyhl+Jb57crrzOJDuvPC6E/FlXIxHc68iXJZFsgUgu48OLOLC88r2PczALbfnGizjqYAysGZEkYnRE7TnsKeH4mnrkWjd0IOjoZTKS8eUlBHxqp9nOEU/b8DZyvjo4aGRykylrc4hNRQ2UIG/rLtqsvFYYkgNytidsTSOHGcGaYQysGZEkwh6uq9iGr/F9eT4W9Xa7OM5zsH8CP+9y8TnyApW2+GHl/X4roRbu7KT8KadZQcxpCayb9uqxTqi3BEmKW+rZ42DHbuXx8WBGsGYYA2tGtMKTQfV74TkAl/nkR9geArNimEpqe+NuqX8QQ6dbz/yU+P1TMeN7z8A5xI9PDhO/rbmP+OYxBBNCCPHo4tPxLBsxTdS5eCPxsAIa6flKJhdx1MEYWDMiSUQyJLPPa8IKTBZygbrCfMHt4ZsKdS5DomDDvSuIt67dRvxHgUDF6cL9nn72Culac1oQ6OzfDokQi0H5LEichRCjfni+pBqYEawZxsCaYQysGZE0uLFPvXOUL7k60Gm+j0QnlzRbjpg27f2O+KXtc4i3rt1L/MZu6GlHIyIxvq/Dazvl53v+y1eJP3xgJXGeeHJYxU+zDQ3elJshJgIzgjXDGFgzorlp/aMV22R9RD0zY0jEvH+Y+UZ++FrlwdXYP3LKekjEix2XEN9whOlNjLlZXd9K17rlvOuJByNIFs3bpt46Js2G3WdZvl+lieSOOhgDa0YkiQh69iiP80gu4+PdzWRttgxjxVFM9Ibe49sHnyZ+8fqlxHeta8T9spOIz9sEuchfLc9ip/pxzm6qF7Xgo15IxCzRVVNfIcwI1g5jYM2IJBF+Xp0A4RJRvg75bySuRT54vJ0gfyziHtO3QArEGV8p21/edZA4zw0LIcQli88nvvu+E5X9+VYKSVZM425rUjWvGmYEa4YxsGZMbCWgEOJ3D7Oxcg2Z+t11P4YcQ9tzc6RzheAb4gMleAsbWjuJ/7oHQc4HOfyFPyvVQ/yLvFx48s62j4m/n/uMON87c0HdAHGXVbXP+ly9iLFamBGsGcbAmjFhieh21buZ8AUtnXl8cj2rXkDnVfK1drBdqJM2Ps33crjHXDYrfWUDCkG2FpqJ15VVuL+XQ81biwOJmeKgQCXjw+sZ9FCckurqJ157JsKMYO0wBtYMK8q/2uHYd9+ZxLff9RRxPnORZ+vqfPZO7bICUF7xLu9SAkibIrGFL/V2eZ0b74N2vPyV32NNGrMjl/90FTqvQqo0CswI1gxjYM0wBtaMCWswx65nUIHzzuoniLfFoXWDHrRywJMjrixbATSDuVNNNtyuOrY/RYZJ+H4W+ZX/N4MWpu0z2ER2woKXetc+NtvcHmFjiBCYEawZxsCa8a9KBIddj6mZngewj8zNl35I/OSUnLdtTyCnu9/Dt7ykTq73VWHYw2fNt9MVQi7su7O7g7j/0nHEJ72izjNPFGYEa4YxsGZok4hq4ExpkX4+vHIB8Wr+ISmHtxL/yDV2WI7qgu92lDf/z2BGsGYYA2vGHyrclJlLpsxSAAAAAElFTkSuQmCC\" id=\"imagea69835c9b7\" transform=\"scale(1 -1) translate(0 -63.36)\" x=\"83.141993\" y=\"-35.565311\" width=\"63.36\" height=\"63.36\"/>\n   </g>\n   <g id=\"patch_8\">\n    <path d=\"M 83.141993 98.925311 \nL 83.141993 35.7555 \n\" style=\"fill: none; stroke: #000000; stroke-width: 0.8; stroke-linejoin: miter; stroke-linecap: square\"/>\n   </g>\n   <g id=\"patch_9\">\n    <path d=\"M 146.311804 98.925311 \nL 146.311804 35.7555 \n\" style=\"fill: none; stroke: #000000; stroke-width: 0.8; stroke-linejoin: miter; stroke-linecap: square\"/>\n   </g>\n   <g id=\"patch_10\">\n    <path d=\"M 83.141993 98.925311 \nL 146.311804 98.925311 \n\" style=\"fill: none; stroke: #000000; stroke-width: 0.8; stroke-linejoin: miter; stroke-linecap: square\"/>\n   </g>\n   <g id=\"patch_11\">\n    <path d=\"M 83.141993 35.7555 \nL 146.311804 35.7555 \n\" style=\"fill: none; stroke: #000000; stroke-width: 0.8; stroke-linejoin: miter; stroke-linecap: square\"/>\n   </g>\n   <g id=\"text_2\">\n    <!-- pullover -->\n    <g transform=\"translate(90.400649 16.318125) scale(0.12 -0.12)\">\n     <defs>\n      <path id=\"DejaVuSans-70\" d=\"M 1159 525 \nL 1159 -1331 \nL 581 -1331 \nL 581 3500 \nL 1159 3500 \nL 1159 2969 \nQ 1341 3281 1617 3432 \nQ 1894 3584 2278 3584 \nQ 2916 3584 3314 3078 \nQ 3713 2572 3713 1747 \nQ 3713 922 3314 415 \nQ 2916 -91 2278 -91 \nQ 1894 -91 1617 61 \nQ 1341 213 1159 525 \nz\nM 3116 1747 \nQ 3116 2381 2855 2742 \nQ 2594 3103 2138 3103 \nQ 1681 3103 1420 2742 \nQ 1159 2381 1159 1747 \nQ 1159 1113 1420 752 \nQ 1681 391 2138 391 \nQ 2594 391 2855 752 \nQ 3116 1113 3116 1747 \nz\n\" transform=\"scale(0.015625)\"/>\n      <path id=\"DejaVuSans-75\" d=\"M 544 1381 \nL 544 3500 \nL 1119 3500 \nL 1119 1403 \nQ 1119 906 1312 657 \nQ 1506 409 1894 409 \nQ 2359 409 2629 706 \nQ 2900 1003 2900 1516 \nL 2900 3500 \nL 3475 3500 \nL 3475 0 \nL 2900 0 \nL 2900 538 \nQ 2691 219 2414 64 \nQ 2138 -91 1772 -91 \nQ 1169 -91 856 284 \nQ 544 659 544 1381 \nz\nM 1991 3584 \nL 1991 3584 \nz\n\" transform=\"scale(0.015625)\"/>\n      <path id=\"DejaVuSans-76\" d=\"M 191 3500 \nL 800 3500 \nL 1894 563 \nL 2988 3500 \nL 3597 3500 \nL 2284 0 \nL 1503 0 \nL 191 3500 \nz\n\" transform=\"scale(0.015625)\"/>\n      <path id=\"DejaVuSans-72\" d=\"M 2631 2963 \nQ 2534 3019 2420 3045 \nQ 2306 3072 2169 3072 \nQ 1681 3072 1420 2755 \nQ 1159 2438 1159 1844 \nL 1159 0 \nL 581 0 \nL 581 3500 \nL 1159 3500 \nL 1159 2956 \nQ 1341 3275 1631 3429 \nQ 1922 3584 2338 3584 \nQ 2397 3584 2469 3576 \nQ 2541 3569 2628 3553 \nL 2631 2963 \nz\n\" transform=\"scale(0.015625)\"/>\n     </defs>\n     <use xlink:href=\"#DejaVuSans-70\"/>\n     <use xlink:href=\"#DejaVuSans-75\" x=\"63.476562\"/>\n     <use xlink:href=\"#DejaVuSans-6c\" x=\"126.855469\"/>\n     <use xlink:href=\"#DejaVuSans-6c\" x=\"154.638672\"/>\n     <use xlink:href=\"#DejaVuSans-6f\" x=\"182.421875\"/>\n     <use xlink:href=\"#DejaVuSans-76\" x=\"243.603516\"/>\n     <use xlink:href=\"#DejaVuSans-65\" x=\"302.783203\"/>\n     <use xlink:href=\"#DejaVuSans-72\" x=\"364.306641\"/>\n    </g>\n    <!-- pullover -->\n    <g transform=\"translate(90.400649 29.7555) scale(0.12 -0.12)\">\n     <use xlink:href=\"#DejaVuSans-70\"/>\n     <use xlink:href=\"#DejaVuSans-75\" x=\"63.476562\"/>\n     <use xlink:href=\"#DejaVuSans-6c\" x=\"126.855469\"/>\n     <use xlink:href=\"#DejaVuSans-6c\" x=\"154.638672\"/>\n     <use xlink:href=\"#DejaVuSans-6f\" x=\"182.421875\"/>\n     <use xlink:href=\"#DejaVuSans-76\" x=\"243.603516\"/>\n     <use xlink:href=\"#DejaVuSans-65\" x=\"302.783203\"/>\n     <use xlink:href=\"#DejaVuSans-72\" x=\"364.306641\"/>\n    </g>\n   </g>\n  </g>\n  <g id=\"axes_3\">\n   <g id=\"patch_12\">\n    <path d=\"M 158.945767 98.925311 \nL 222.115578 98.925311 \nL 222.115578 35.7555 \nL 158.945767 35.7555 \nz\n\" style=\"fill: #ffffff\"/>\n   </g>\n   <g clip-path=\"url(#p2b853d8c6b)\">\n    <image xlink:href=\"data:image/png;base64,\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\" id=\"image316e261a14\" transform=\"scale(1 -1) translate(0 -63.36)\" x=\"158.945767\" y=\"-35.565311\" width=\"63.36\" height=\"63.36\"/>\n   </g>\n   <g id=\"patch_13\">\n    <path d=\"M 158.945767 98.925311 \nL 158.945767 35.7555 \n\" style=\"fill: none; stroke: #000000; stroke-width: 0.8; stroke-linejoin: miter; stroke-linecap: square\"/>\n   </g>\n   <g id=\"patch_14\">\n    <path d=\"M 222.115578 98.925311 \nL 222.115578 35.7555 \n\" style=\"fill: none; stroke: #000000; stroke-width: 0.8; stroke-linejoin: miter; stroke-linecap: square\"/>\n   </g>\n   <g id=\"patch_15\">\n    <path d=\"M 158.945767 98.925311 \nL 222.115578 98.925311 \n\" style=\"fill: none; stroke: #000000; stroke-width: 0.8; stroke-linejoin: miter; stroke-linecap: square\"/>\n   </g>\n   <g id=\"patch_16\">\n    <path d=\"M 158.945767 35.7555 \nL 222.115578 35.7555 \n\" style=\"fill: none; stroke: #000000; stroke-width: 0.8; stroke-linejoin: miter; stroke-linecap: square\"/>\n   </g>\n   <g id=\"text_3\">\n    <!-- trouser -->\n    <g transform=\"translate(169.08911 16.318125) scale(0.12 -0.12)\">\n     <defs>\n      <path id=\"DejaVuSans-73\" d=\"M 2834 3397 \nL 2834 2853 \nQ 2591 2978 2328 3040 \nQ 2066 3103 1784 3103 \nQ 1356 3103 1142 2972 \nQ 928 2841 928 2578 \nQ 928 2378 1081 2264 \nQ 1234 2150 1697 2047 \nL 1894 2003 \nQ 2506 1872 2764 1633 \nQ 3022 1394 3022 966 \nQ 3022 478 2636 193 \nQ 2250 -91 1575 -91 \nQ 1294 -91 989 -36 \nQ 684 19 347 128 \nL 347 722 \nQ 666 556 975 473 \nQ 1284 391 1588 391 \nQ 1994 391 2212 530 \nQ 2431 669 2431 922 \nQ 2431 1156 2273 1281 \nQ 2116 1406 1581 1522 \nL 1381 1569 \nQ 847 1681 609 1914 \nQ 372 2147 372 2553 \nQ 372 3047 722 3315 \nQ 1072 3584 1716 3584 \nQ 2034 3584 2315 3537 \nQ 2597 3491 2834 3397 \nz\n\" transform=\"scale(0.015625)\"/>\n     </defs>\n     <use xlink:href=\"#DejaVuSans-74\"/>\n     <use xlink:href=\"#DejaVuSans-72\" x=\"39.208984\"/>\n     <use xlink:href=\"#DejaVuSans-6f\" x=\"78.072266\"/>\n     <use xlink:href=\"#DejaVuSans-75\" x=\"139.253906\"/>\n     <use xlink:href=\"#DejaVuSans-73\" x=\"202.632812\"/>\n     <use xlink:href=\"#DejaVuSans-65\" x=\"254.732422\"/>\n     <use xlink:href=\"#DejaVuSans-72\" x=\"316.255859\"/>\n    </g>\n    <!-- trouser -->\n    <g transform=\"translate(169.08911 29.7555) scale(0.12 -0.12)\">\n     <use xlink:href=\"#DejaVuSans-74\"/>\n     <use xlink:href=\"#DejaVuSans-72\" x=\"39.208984\"/>\n     <use xlink:href=\"#DejaVuSans-6f\" x=\"78.072266\"/>\n     <use xlink:href=\"#DejaVuSans-75\" x=\"139.253906\"/>\n     <use xlink:href=\"#DejaVuSans-73\" x=\"202.632812\"/>\n     <use xlink:href=\"#DejaVuSans-65\" x=\"254.732422\"/>\n     <use xlink:href=\"#DejaVuSans-72\" x=\"316.255859\"/>\n    </g>\n   </g>\n  </g>\n  <g id=\"axes_4\">\n   <g id=\"patch_17\">\n    <path d=\"M 234.74954 98.925311 \nL 297.919351 98.925311 \nL 297.919351 35.7555 \nL 234.74954 35.7555 \nz\n\" style=\"fill: #ffffff\"/>\n   </g>\n   <g clip-path=\"url(#p47cb398488)\">\n    <image xlink:href=\"data:image/png;base64,\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\" id=\"image18a1b1de3f\" transform=\"scale(1 -1) translate(0 -63.36)\" x=\"234.74954\" y=\"-35.565311\" width=\"63.36\" height=\"63.36\"/>\n   </g>\n   <g id=\"patch_18\">\n    <path d=\"M 234.74954 98.925311 \nL 234.74954 35.7555 \n\" style=\"fill: none; stroke: #000000; stroke-width: 0.8; stroke-linejoin: miter; stroke-linecap: square\"/>\n   </g>\n   <g id=\"patch_19\">\n    <path d=\"M 297.919351 98.925311 \nL 297.919351 35.7555 \n\" style=\"fill: none; stroke: #000000; stroke-width: 0.8; stroke-linejoin: miter; stroke-linecap: square\"/>\n   </g>\n   <g id=\"patch_20\">\n    <path d=\"M 234.74954 98.925311 \nL 297.919351 98.925311 \n\" style=\"fill: none; stroke: #000000; stroke-width: 0.8; stroke-linejoin: miter; stroke-linecap: square\"/>\n   </g>\n   <g id=\"patch_21\">\n    <path d=\"M 234.74954 35.7555 \nL 297.919351 35.7555 \n\" style=\"fill: none; stroke: #000000; stroke-width: 0.8; stroke-linejoin: miter; stroke-linecap: square\"/>\n   </g>\n   <g id=\"text_4\">\n    <!-- trouser -->\n    <g transform=\"translate(244.892883 16.318125) scale(0.12 -0.12)\">\n     <use xlink:href=\"#DejaVuSans-74\"/>\n     <use xlink:href=\"#DejaVuSans-72\" x=\"39.208984\"/>\n     <use xlink:href=\"#DejaVuSans-6f\" x=\"78.072266\"/>\n     <use xlink:href=\"#DejaVuSans-75\" x=\"139.253906\"/>\n     <use xlink:href=\"#DejaVuSans-73\" x=\"202.632812\"/>\n     <use xlink:href=\"#DejaVuSans-65\" x=\"254.732422\"/>\n     <use xlink:href=\"#DejaVuSans-72\" x=\"316.255859\"/>\n    </g>\n    <!-- trouser -->\n    <g transform=\"translate(244.892883 29.7555) scale(0.12 -0.12)\">\n     <use xlink:href=\"#DejaVuSans-74\"/>\n     <use xlink:href=\"#DejaVuSans-72\" x=\"39.208984\"/>\n     <use xlink:href=\"#DejaVuSans-6f\" x=\"78.072266\"/>\n     <use xlink:href=\"#DejaVuSans-75\" x=\"139.253906\"/>\n     <use xlink:href=\"#DejaVuSans-73\" x=\"202.632812\"/>\n     <use xlink:href=\"#DejaVuSans-65\" x=\"254.732422\"/>\n     <use xlink:href=\"#DejaVuSans-72\" x=\"316.255859\"/>\n    </g>\n   </g>\n  </g>\n  <g id=\"axes_5\">\n   <g id=\"patch_22\">\n    <path d=\"M 310.553314 98.925311 \nL 373.723125 98.925311 \nL 373.723125 35.7555 \nL 310.553314 35.7555 \nz\n\" style=\"fill: #ffffff\"/>\n   </g>\n   <g clip-path=\"url(#p9d6cc6bab0)\">\n    <image xlink:href=\"data:image/png;base64,\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\" id=\"image188669b4e3\" transform=\"scale(1 -1) translate(0 -63.36)\" x=\"310.553314\" y=\"-35.565311\" width=\"63.36\" height=\"63.36\"/>\n   </g>\n   <g id=\"patch_23\">\n    <path d=\"M 310.553314 98.925311 \nL 310.553314 35.7555 \n\" style=\"fill: none; stroke: #000000; stroke-width: 0.8; stroke-linejoin: miter; stroke-linecap: square\"/>\n   </g>\n   <g id=\"patch_24\">\n    <path d=\"M 373.723125 98.925311 \nL 373.723125 35.7555 \n\" style=\"fill: none; stroke: #000000; stroke-width: 0.8; stroke-linejoin: miter; stroke-linecap: square\"/>\n   </g>\n   <g id=\"patch_25\">\n    <path d=\"M 310.553314 98.925311 \nL 373.723125 98.925311 \n\" style=\"fill: none; stroke: #000000; stroke-width: 0.8; stroke-linejoin: miter; stroke-linecap: square\"/>\n   </g>\n   <g id=\"patch_26\">\n    <path d=\"M 310.553314 35.7555 \nL 373.723125 35.7555 \n\" style=\"fill: none; stroke: #000000; stroke-width: 0.8; stroke-linejoin: miter; stroke-linecap: square\"/>\n   </g>\n   <g id=\"text_5\">\n    <!-- shirt -->\n    <g transform=\"translate(328.724469 16.318125) scale(0.12 -0.12)\">\n     <defs>\n      <path id=\"DejaVuSans-68\" d=\"M 3513 2113 \nL 3513 0 \nL 2938 0 \nL 2938 2094 \nQ 2938 2591 2744 2837 \nQ 2550 3084 2163 3084 \nQ 1697 3084 1428 2787 \nQ 1159 2491 1159 1978 \nL 1159 0 \nL 581 0 \nL 581 4863 \nL 1159 4863 \nL 1159 2956 \nQ 1366 3272 1645 3428 \nQ 1925 3584 2291 3584 \nQ 2894 3584 3203 3211 \nQ 3513 2838 3513 2113 \nz\n\" transform=\"scale(0.015625)\"/>\n      <path id=\"DejaVuSans-69\" d=\"M 603 3500 \nL 1178 3500 \nL 1178 0 \nL 603 0 \nL 603 3500 \nz\nM 603 4863 \nL 1178 4863 \nL 1178 4134 \nL 603 4134 \nL 603 4863 \nz\n\" transform=\"scale(0.015625)\"/>\n     </defs>\n     <use xlink:href=\"#DejaVuSans-73\"/>\n     <use xlink:href=\"#DejaVuSans-68\" x=\"52.099609\"/>\n     <use xlink:href=\"#DejaVuSans-69\" x=\"115.478516\"/>\n     <use xlink:href=\"#DejaVuSans-72\" x=\"143.261719\"/>\n     <use xlink:href=\"#DejaVuSans-74\" x=\"184.375\"/>\n    </g>\n    <!-- shirt -->\n    <g transform=\"translate(328.724469 29.7555) scale(0.12 -0.12)\">\n     <use xlink:href=\"#DejaVuSans-73\"/>\n     <use xlink:href=\"#DejaVuSans-68\" x=\"52.099609\"/>\n     <use xlink:href=\"#DejaVuSans-69\" x=\"115.478516\"/>\n     <use xlink:href=\"#DejaVuSans-72\" x=\"143.261719\"/>\n     <use xlink:href=\"#DejaVuSans-74\" x=\"184.375\"/>\n    </g>\n   </g>\n  </g>\n  <g id=\"axes_6\">\n   <g id=\"patch_27\">\n    <path d=\"M 386.357087 98.925311 \nL 449.526899 98.925311 \nL 449.526899 35.7555 \nL 386.357087 35.7555 \nz\n\" style=\"fill: #ffffff\"/>\n   </g>\n   <g clip-path=\"url(#pb7cbf1d9c2)\">\n    <image xlink:href=\"data:image/png;base64,\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\" id=\"image60a9e0a12f\" transform=\"scale(1 -1) translate(0 -63.36)\" x=\"386.357087\" y=\"-35.565311\" width=\"63.36\" height=\"63.36\"/>\n   </g>\n   <g id=\"patch_28\">\n    <path d=\"M 386.357087 98.925311 \nL 386.357087 35.7555 \n\" style=\"fill: none; stroke: #000000; stroke-width: 0.8; stroke-linejoin: miter; stroke-linecap: square\"/>\n   </g>\n   <g id=\"patch_29\">\n    <path d=\"M 449.526899 98.925311 \nL 449.526899 35.7555 \n\" style=\"fill: none; stroke: #000000; stroke-width: 0.8; stroke-linejoin: miter; stroke-linecap: square\"/>\n   </g>\n   <g id=\"patch_30\">\n    <path d=\"M 386.357087 98.925311 \nL 449.526899 98.925311 \n\" style=\"fill: none; stroke: #000000; stroke-width: 0.8; stroke-linejoin: miter; stroke-linecap: square\"/>\n   </g>\n   <g id=\"patch_31\">\n    <path d=\"M 386.357087 35.7555 \nL 449.526899 35.7555 \n\" style=\"fill: none; stroke: #000000; stroke-width: 0.8; stroke-linejoin: miter; stroke-linecap: square\"/>\n   </g>\n   <g id=\"text_6\">\n    <!-- trouser -->\n    <g transform=\"translate(396.50043 16.318125) scale(0.12 -0.12)\">\n     <use xlink:href=\"#DejaVuSans-74\"/>\n     <use xlink:href=\"#DejaVuSans-72\" x=\"39.208984\"/>\n     <use xlink:href=\"#DejaVuSans-6f\" x=\"78.072266\"/>\n     <use xlink:href=\"#DejaVuSans-75\" x=\"139.253906\"/>\n     <use xlink:href=\"#DejaVuSans-73\" x=\"202.632812\"/>\n     <use xlink:href=\"#DejaVuSans-65\" x=\"254.732422\"/>\n     <use xlink:href=\"#DejaVuSans-72\" x=\"316.255859\"/>\n    </g>\n    <!-- trouser -->\n    <g transform=\"translate(396.50043 29.7555) scale(0.12 -0.12)\">\n     <use xlink:href=\"#DejaVuSans-74\"/>\n     <use xlink:href=\"#DejaVuSans-72\" x=\"39.208984\"/>\n     <use xlink:href=\"#DejaVuSans-6f\" x=\"78.072266\"/>\n     <use xlink:href=\"#DejaVuSans-75\" x=\"139.253906\"/>\n     <use xlink:href=\"#DejaVuSans-73\" x=\"202.632812\"/>\n     <use xlink:href=\"#DejaVuSans-65\" x=\"254.732422\"/>\n     <use xlink:href=\"#DejaVuSans-72\" x=\"316.255859\"/>\n    </g>\n   </g>\n  </g>\n  <g id=\"axes_7\">\n   <g id=\"patch_32\">\n    <path d=\"M 462.160861 98.925311 \nL 525.330672 98.925311 \nL 525.330672 35.7555 \nL 462.160861 35.7555 \nz\n\" style=\"fill: #ffffff\"/>\n   </g>\n   <g clip-path=\"url(#p6e728e088d)\">\n    <image xlink:href=\"data:image/png;base64,\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\" id=\"image5d9593a154\" transform=\"scale(1 -1) translate(0 -63.36)\" x=\"462.160861\" y=\"-35.565311\" width=\"63.36\" height=\"63.36\"/>\n   </g>\n   <g id=\"patch_33\">\n    <path d=\"M 462.160861 98.925311 \nL 462.160861 35.7555 \n\" style=\"fill: none; stroke: #000000; stroke-width: 0.8; stroke-linejoin: miter; stroke-linecap: square\"/>\n   </g>\n   <g id=\"patch_34\">\n    <path d=\"M 525.330672 98.925311 \nL 525.330672 35.7555 \n\" style=\"fill: none; stroke: #000000; stroke-width: 0.8; stroke-linejoin: miter; stroke-linecap: square\"/>\n   </g>\n   <g id=\"patch_35\">\n    <path d=\"M 462.160861 98.925311 \nL 525.330672 98.925311 \n\" style=\"fill: none; stroke: #000000; stroke-width: 0.8; stroke-linejoin: miter; stroke-linecap: square\"/>\n   </g>\n   <g id=\"patch_36\">\n    <path d=\"M 462.160861 35.7555 \nL 525.330672 35.7555 \n\" style=\"fill: none; stroke: #000000; stroke-width: 0.8; stroke-linejoin: miter; stroke-linecap: square\"/>\n   </g>\n   <g id=\"text_7\">\n    <!-- coat -->\n    <g transform=\"translate(480.746392 16.318125) scale(0.12 -0.12)\">\n     <defs>\n      <path id=\"DejaVuSans-63\" d=\"M 3122 3366 \nL 3122 2828 \nQ 2878 2963 2633 3030 \nQ 2388 3097 2138 3097 \nQ 1578 3097 1268 2742 \nQ 959 2388 959 1747 \nQ 959 1106 1268 751 \nQ 1578 397 2138 397 \nQ 2388 397 2633 464 \nQ 2878 531 3122 666 \nL 3122 134 \nQ 2881 22 2623 -34 \nQ 2366 -91 2075 -91 \nQ 1284 -91 818 406 \nQ 353 903 353 1747 \nQ 353 2603 823 3093 \nQ 1294 3584 2113 3584 \nQ 2378 3584 2631 3529 \nQ 2884 3475 3122 3366 \nz\n\" transform=\"scale(0.015625)\"/>\n     </defs>\n     <use xlink:href=\"#DejaVuSans-63\"/>\n     <use xlink:href=\"#DejaVuSans-6f\" x=\"54.980469\"/>\n     <use xlink:href=\"#DejaVuSans-61\" x=\"116.162109\"/>\n     <use xlink:href=\"#DejaVuSans-74\" x=\"177.441406\"/>\n    </g>\n    <!-- coat -->\n    <g transform=\"translate(480.746392 29.7555) scale(0.12 -0.12)\">\n     <use xlink:href=\"#DejaVuSans-63\"/>\n     <use xlink:href=\"#DejaVuSans-6f\" x=\"54.980469\"/>\n     <use xlink:href=\"#DejaVuSans-61\" x=\"116.162109\"/>\n     <use xlink:href=\"#DejaVuSans-74\" x=\"177.441406\"/>\n    </g>\n   </g>\n  </g>\n  <g id=\"axes_8\">\n   <g id=\"patch_37\">\n    <path d=\"M 537.964634 98.925311 \nL 601.134446 98.925311 \nL 601.134446 35.7555 \nL 537.964634 35.7555 \nz\n\" style=\"fill: #ffffff\"/>\n   </g>\n   <g clip-path=\"url(#p9d8579326f)\">\n    <image xlink:href=\"data:image/png;base64,\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\" id=\"image7c645b6b29\" transform=\"scale(1 -1) translate(0 -63.36)\" x=\"537.964634\" y=\"-35.565311\" width=\"63.36\" height=\"63.36\"/>\n   </g>\n   <g id=\"patch_38\">\n    <path d=\"M 537.964634 98.925311 \nL 537.964634 35.7555 \n\" style=\"fill: none; stroke: #000000; stroke-width: 0.8; stroke-linejoin: miter; stroke-linecap: square\"/>\n   </g>\n   <g id=\"patch_39\">\n    <path d=\"M 601.134446 98.925311 \nL 601.134446 35.7555 \n\" style=\"fill: none; stroke: #000000; stroke-width: 0.8; stroke-linejoin: miter; stroke-linecap: square\"/>\n   </g>\n   <g id=\"patch_40\">\n    <path d=\"M 537.964634 98.925311 \nL 601.134446 98.925311 \n\" style=\"fill: none; stroke: #000000; stroke-width: 0.8; stroke-linejoin: miter; stroke-linecap: square\"/>\n   </g>\n   <g id=\"patch_41\">\n    <path d=\"M 537.964634 35.7555 \nL 601.134446 35.7555 \n\" style=\"fill: none; stroke: #000000; stroke-width: 0.8; stroke-linejoin: miter; stroke-linecap: square\"/>\n   </g>\n   <g id=\"text_8\">\n    <!-- shirt -->\n    <g transform=\"translate(556.13579 16.318125) scale(0.12 -0.12)\">\n     <use xlink:href=\"#DejaVuSans-73\"/>\n     <use xlink:href=\"#DejaVuSans-68\" x=\"52.099609\"/>\n     <use xlink:href=\"#DejaVuSans-69\" x=\"115.478516\"/>\n     <use xlink:href=\"#DejaVuSans-72\" x=\"143.261719\"/>\n     <use xlink:href=\"#DejaVuSans-74\" x=\"184.375\"/>\n    </g>\n    <!-- shirt -->\n    <g transform=\"translate(556.13579 29.7555) scale(0.12 -0.12)\">\n     <use xlink:href=\"#DejaVuSans-73\"/>\n     <use xlink:href=\"#DejaVuSans-68\" x=\"52.099609\"/>\n     <use xlink:href=\"#DejaVuSans-69\" x=\"115.478516\"/>\n     <use xlink:href=\"#DejaVuSans-72\" x=\"143.261719\"/>\n     <use xlink:href=\"#DejaVuSans-74\" x=\"184.375\"/>\n    </g>\n   </g>\n  </g>\n  <g id=\"axes_9\">\n   <g id=\"patch_42\">\n    <path d=\"M 613.768408 98.925311 \nL 676.938219 98.925311 \nL 676.938219 35.7555 \nL 613.768408 35.7555 \nz\n\" style=\"fill: #ffffff\"/>\n   </g>\n   <g clip-path=\"url(#p911ceeefdd)\">\n    <image xlink:href=\"data:image/png;base64,\niVBORw0KGgoAAAANSUhEUgAAAFgAAABYCAYAAABxlTA0AAADOUlEQVR4nO2bv2sUQRiGZ/Y28ZKox8bzzMWYiI2JCMKpsYiNkEIJVhqwFkS0skujpf+BlZ2FjVhpkxRiqaho0EKD4bjTqEmMIT+4yyXe7VoI37d77oWQ80WQ96nehW9mZx9mZmeLtcP2YmAIDOdfD+B/h4LBUDAYCgZDwWAoGAwFg6FgMBQMhoLBUDAYCgZDwWAoGAwFg6FgMBQMhoLBUDAYCgZDwWAoGAwFg6FgMBQMhoLBUDAYCgZDwWAoGAwFg6FgMBQMhoLBuIl9GblYHD4keS2j7kvd0b8MrK+5bd5KLnfF/43g79AGzobWu2UbqQv3lcr/lNzx4bvkar4Qe4/tkEjv0YsNvZ9pbYlvYOvmo2Njy2pz81qy3cGRrUHBYFyT2qUXFV3ine91yWReVSONrK91Hy+7ko/cXpBc6t8rueIlJFeTuqz8upUYaJkphn5+SmdaJS+vHtNx5Nsld8xoW29qI9JvMq9bTPFSj+TyQEWLVnUwtqpjDBwdR+DWbYGh6enu1ntmHxyMKyEIKBiMbfZHxImvk5JHjp+VXP0220y3DXGO9kvO39KtY/TwG8kptxxp82XdkzzxaFBy+6w+eqUz/kQQhKZgeAszxhgTauK3aF8HnqzreGN7JX8NCgZjh51Rmds2oWsgqNUatwp0OdTO5LSzm/q2np7ukuxN6kkj83xFcmJhOdLtzIVeyaVBXeYn+j5Jnivrqed89p3kXFtB8sPFk5F+X9zRMXr3ntU/DRTOYDAUDMYNX0S2haDx4cK62izx9LXkUucpyX1X5ySPDOlS7r6xJHmpph8KxhjzOPRWz3mfJY/fHdKic4sST3dMSR67dl1y6/jLSL+eid8WnGRSsl+pxNY0C2cwGAoG0/SHRiPc/d2S1waykqs79aSy0hvZoUz6rS7TwhUdVs99rWsv6inE/ljSfmd1S/oDJ/SF4G9yOpKOQ18Qm2yVW4EzGAwFg4FtEeQ3nMFgKBgMBYOhYDAUDIaCwVAwGAoGQ8FgKBgMBYOhYDAUDIaCwVAwGAoGQ8FgKBgMBYOhYDAUDIaCwVAwGAoGQ8FgKBgMBYOhYDAUDIaCwVAwGAoGQ8FgKBjML1xTqMTy9yXcAAAAAElFTkSuQmCC\" id=\"imagebd047a7683\" transform=\"scale(1 -1) translate(0 -63.36)\" x=\"613.768408\" y=\"-35.565311\" width=\"63.36\" height=\"63.36\"/>\n   </g>\n   <g id=\"patch_43\">\n    <path d=\"M 613.768408 98.925311 \nL 613.768408 35.7555 \n\" style=\"fill: none; stroke: #000000; stroke-width: 0.8; stroke-linejoin: miter; stroke-linecap: square\"/>\n   </g>\n   <g id=\"patch_44\">\n    <path d=\"M 676.938219 98.925311 \nL 676.938219 35.7555 \n\" style=\"fill: none; stroke: #000000; stroke-width: 0.8; stroke-linejoin: miter; stroke-linecap: square\"/>\n   </g>\n   <g id=\"patch_45\">\n    <path d=\"M 613.768408 98.925311 \nL 676.938219 98.925311 \n\" style=\"fill: none; stroke: #000000; stroke-width: 0.8; stroke-linejoin: miter; stroke-linecap: square\"/>\n   </g>\n   <g id=\"patch_46\">\n    <path d=\"M 613.768408 35.7555 \nL 676.938219 35.7555 \n\" style=\"fill: none; stroke: #000000; stroke-width: 0.8; stroke-linejoin: miter; stroke-linecap: square\"/>\n   </g>\n   <g id=\"text_9\">\n    <!-- sandal -->\n    <g transform=\"translate(625.595501 16.318125) scale(0.12 -0.12)\">\n     <defs>\n      <path id=\"DejaVuSans-64\" d=\"M 2906 2969 \nL 2906 4863 \nL 3481 4863 \nL 3481 0 \nL 2906 0 \nL 2906 525 \nQ 2725 213 2448 61 \nQ 2172 -91 1784 -91 \nQ 1150 -91 751 415 \nQ 353 922 353 1747 \nQ 353 2572 751 3078 \nQ 1150 3584 1784 3584 \nQ 2172 3584 2448 3432 \nQ 2725 3281 2906 2969 \nz\nM 947 1747 \nQ 947 1113 1208 752 \nQ 1469 391 1925 391 \nQ 2381 391 2643 752 \nQ 2906 1113 2906 1747 \nQ 2906 2381 2643 2742 \nQ 2381 3103 1925 3103 \nQ 1469 3103 1208 2742 \nQ 947 2381 947 1747 \nz\n\" transform=\"scale(0.015625)\"/>\n     </defs>\n     <use xlink:href=\"#DejaVuSans-73\"/>\n     <use xlink:href=\"#DejaVuSans-61\" x=\"52.099609\"/>\n     <use xlink:href=\"#DejaVuSans-6e\" x=\"113.378906\"/>\n     <use xlink:href=\"#DejaVuSans-64\" x=\"176.757812\"/>\n     <use xlink:href=\"#DejaVuSans-61\" x=\"240.234375\"/>\n     <use xlink:href=\"#DejaVuSans-6c\" x=\"301.513672\"/>\n    </g>\n    <!-- sandal -->\n    <g transform=\"translate(625.595501 29.7555) scale(0.12 -0.12)\">\n     <use xlink:href=\"#DejaVuSans-73\"/>\n     <use xlink:href=\"#DejaVuSans-61\" x=\"52.099609\"/>\n     <use xlink:href=\"#DejaVuSans-6e\" x=\"113.378906\"/>\n     <use xlink:href=\"#DejaVuSans-64\" x=\"176.757812\"/>\n     <use xlink:href=\"#DejaVuSans-61\" x=\"240.234375\"/>\n     <use xlink:href=\"#DejaVuSans-6c\" x=\"301.513672\"/>\n    </g>\n   </g>\n  </g>\n </g>\n <defs>\n  <clipPath id=\"paa4fc8a4a9\">\n   <rect x=\"7.338219\" y=\"35.7555\" width=\"63.169811\" height=\"63.169811\"/>\n  </clipPath>\n  <clipPath id=\"pd8ede39a9e\">\n   <rect x=\"83.141993\" y=\"35.7555\" width=\"63.169811\" height=\"63.169811\"/>\n  </clipPath>\n  <clipPath id=\"p2b853d8c6b\">\n   <rect x=\"158.945767\" y=\"35.7555\" width=\"63.169811\" height=\"63.169811\"/>\n  </clipPath>\n  <clipPath id=\"p47cb398488\">\n   <rect x=\"234.74954\" y=\"35.7555\" width=\"63.169811\" height=\"63.169811\"/>\n  </clipPath>\n  <clipPath id=\"p9d6cc6bab0\">\n   <rect x=\"310.553314\" y=\"35.7555\" width=\"63.169811\" height=\"63.169811\"/>\n  </clipPath>\n  <clipPath id=\"pb7cbf1d9c2\">\n   <rect x=\"386.357087\" y=\"35.7555\" width=\"63.169811\" height=\"63.169811\"/>\n  </clipPath>\n  <clipPath id=\"p6e728e088d\">\n   <rect x=\"462.160861\" y=\"35.7555\" width=\"63.169811\" height=\"63.169811\"/>\n  </clipPath>\n  <clipPath id=\"p9d8579326f\">\n   <rect x=\"537.964634\" y=\"35.7555\" width=\"63.169811\" height=\"63.169811\"/>\n  </clipPath>\n  <clipPath id=\"p911ceeefdd\">\n   <rect x=\"613.768408\" y=\"35.7555\" width=\"63.169811\" height=\"63.169811\"/>\n  </clipPath>\n </defs>\n</svg>\n"
          },
          "metadata": {}
        }
      ]
    },
    {
      "cell_type": "markdown",
      "source": [
        "## 小结\n",
        "\n",
        "* 可以使用softmax回归做多类别分类。与训练线性回归相比，你会发现训练softmax回归的步骤和它非常相似：获取并读取数据、定义模型和损失函数并使用优化算法训练模型。事实上，绝大多数深度学习模型的训练都有着类似的步骤。\n",
        "\n",
        "-----------\n",
        "> 注：本节除了代码之外与原书基本相同，[原书传送门](https://zh.d2l.ai/chapter_deep-learning-basics/softmax-regression-scratch.html)"
      ],
      "metadata": {
        "id": "sRYf_EF-HPys"
      }
    }
  ]
}